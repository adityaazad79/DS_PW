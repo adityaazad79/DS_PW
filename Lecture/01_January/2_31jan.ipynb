{
 "cells": [
  {
   "attachments": {},
   "cell_type": "markdown",
   "metadata": {},
   "source": [
    "List, Tuples, Set"
   ]
  },
  {
   "attachments": {},
   "cell_type": "markdown",
   "metadata": {},
   "source": [
    "List\n",
    "- List are mutable"
   ]
  },
  {
   "cell_type": "code",
   "execution_count": 1238,
   "metadata": {},
   "outputs": [
    {
     "data": {
      "text/plain": [
       "list"
      ]
     },
     "execution_count": 1238,
     "metadata": {},
     "output_type": "execute_result"
    }
   ],
   "source": [
    "l = [6, 3, 22, \"Aditya\",True, 5+7j, 424.32]\n",
    "type(l)"
   ]
  },
  {
   "cell_type": "code",
   "execution_count": 1239,
   "metadata": {},
   "outputs": [
    {
     "data": {
      "text/plain": [
       "6"
      ]
     },
     "execution_count": 1239,
     "metadata": {},
     "output_type": "execute_result"
    }
   ],
   "source": [
    "l[0]"
   ]
  },
  {
   "cell_type": "code",
   "execution_count": 1240,
   "metadata": {},
   "outputs": [
    {
     "data": {
      "text/plain": [
       "[6, 3, 22]"
      ]
     },
     "execution_count": 1240,
     "metadata": {},
     "output_type": "execute_result"
    }
   ],
   "source": [
    "l[:3]"
   ]
  },
  {
   "cell_type": "code",
   "execution_count": 1241,
   "metadata": {},
   "outputs": [
    {
     "data": {
      "text/plain": [
       "[424.32, (5+7j), True, 'Aditya', 22, 3, 6]"
      ]
     },
     "execution_count": 1241,
     "metadata": {},
     "output_type": "execute_result"
    }
   ],
   "source": [
    "# reverse\n",
    "l[::-1] "
   ]
  },
  {
   "cell_type": "code",
   "execution_count": 1242,
   "metadata": {},
   "outputs": [
    {
     "data": {
      "text/plain": [
       "[6, 22, True, 424.32]"
      ]
     },
     "execution_count": 1242,
     "metadata": {},
     "output_type": "execute_result"
    }
   ],
   "source": [
    "l[::2]"
   ]
  },
  {
   "cell_type": "code",
   "execution_count": 1243,
   "metadata": {},
   "outputs": [],
   "source": [
    "l = l+list([\"Gargi\"])"
   ]
  },
  {
   "cell_type": "code",
   "execution_count": 1244,
   "metadata": {},
   "outputs": [
    {
     "data": {
      "text/plain": [
       "'Ad'"
      ]
     },
     "execution_count": 1244,
     "metadata": {},
     "output_type": "execute_result"
    }
   ],
   "source": [
    "# List Slicing\n",
    "l[3][:2]"
   ]
  },
  {
   "cell_type": "code",
   "execution_count": 1245,
   "metadata": {},
   "outputs": [
    {
     "data": {
      "text/plain": [
       "[6,\n",
       " 3,\n",
       " 22,\n",
       " 'Aditya',\n",
       " True,\n",
       " (5+7j),\n",
       " 424.32,\n",
       " 'Gargi',\n",
       " 6,\n",
       " 3,\n",
       " 22,\n",
       " 'Aditya',\n",
       " True,\n",
       " (5+7j),\n",
       " 424.32,\n",
       " 'Gargi']"
      ]
     },
     "execution_count": 1245,
     "metadata": {},
     "output_type": "execute_result"
    }
   ],
   "source": [
    "l * 2"
   ]
  },
  {
   "cell_type": "code",
   "execution_count": 1246,
   "metadata": {},
   "outputs": [
    {
     "data": {
      "text/plain": [
       "[6, 3, 22, 'Aditya', True, (5+7j), 424.32, 'Gargi', 'Ad']"
      ]
     },
     "execution_count": 1246,
     "metadata": {},
     "output_type": "execute_result"
    }
   ],
   "source": [
    "l.append(\"Ad\")\n",
    "l"
   ]
  },
  {
   "cell_type": "code",
   "execution_count": 1247,
   "metadata": {},
   "outputs": [
    {
     "data": {
      "text/plain": [
       "[6,\n",
       " 3,\n",
       " 22,\n",
       " 'Aditya',\n",
       " True,\n",
       " (5+7j),\n",
       " 424.32,\n",
       " 'Gargi',\n",
       " 'Ad',\n",
       " [132, 3123, '546643', 'Data']]"
      ]
     },
     "execution_count": 1247,
     "metadata": {},
     "output_type": "execute_result"
    }
   ],
   "source": [
    "l1 =[132,3123,str(546643), \"Data\"]\n",
    "l.append(l1)\n",
    "l"
   ]
  },
  {
   "cell_type": "code",
   "execution_count": 1248,
   "metadata": {},
   "outputs": [
    {
     "data": {
      "text/plain": [
       "'4'"
      ]
     },
     "execution_count": 1248,
     "metadata": {},
     "output_type": "execute_result"
    }
   ],
   "source": [
    "l[-1][-2][4]"
   ]
  },
  {
   "cell_type": "code",
   "execution_count": 1249,
   "metadata": {},
   "outputs": [],
   "source": [
    "# extend() - Extends list by appending from the iterables\n",
    "# Iterables - The data which contains data inside its data. e.g String - contains characters\n",
    "# l.extend(32) // Won't work as int is not iterable"
   ]
  },
  {
   "cell_type": "code",
   "execution_count": 1250,
   "metadata": {},
   "outputs": [
    {
     "data": {
      "text/plain": [
       "[6,\n",
       " 3,\n",
       " 22,\n",
       " 'Aditya',\n",
       " True,\n",
       " (5+7j),\n",
       " 424.32,\n",
       " 'Gargi',\n",
       " 'Ad',\n",
       " [132, 3123, '546643', 'Data'],\n",
       " 'J',\n",
       " 'e',\n",
       " 'h',\n",
       " 'n',\n",
       " 'a',\n",
       " 'b',\n",
       " 'a',\n",
       " 'd']"
      ]
     },
     "execution_count": 1250,
     "metadata": {},
     "output_type": "execute_result"
    }
   ],
   "source": [
    "l.extend(\"Jehnabad\")\n",
    "l"
   ]
  },
  {
   "cell_type": "code",
   "execution_count": 1251,
   "metadata": {},
   "outputs": [
    {
     "data": {
      "text/plain": [
       "[6,\n",
       " 3,\n",
       " 22,\n",
       " 'Aditya',\n",
       " True,\n",
       " (5+7j),\n",
       " 424.32,\n",
       " 'Gargi',\n",
       " 'Ad',\n",
       " [132, 3123, '546643', 'Data'],\n",
       " 'J',\n",
       " 'e',\n",
       " 'h',\n",
       " 'n',\n",
       " 'a',\n",
       " 'b',\n",
       " 'a',\n",
       " 'd',\n",
       " 'Bihar',\n",
       " 1,\n",
       " 2,\n",
       " 3]"
      ]
     },
     "execution_count": 1251,
     "metadata": {},
     "output_type": "execute_result"
    }
   ],
   "source": [
    "l.extend([\"Bihar\"])\n",
    "l.extend([1,2,3])\n",
    "l"
   ]
  },
  {
   "cell_type": "code",
   "execution_count": 1252,
   "metadata": {},
   "outputs": [
    {
     "data": {
      "text/plain": [
       "[43, 'Gargi', 23432, 768, 'Aditya', 83284]"
      ]
     },
     "execution_count": 1252,
     "metadata": {},
     "output_type": "execute_result"
    }
   ],
   "source": [
    "# insert() - Inserts at a given index\n",
    "l2 = [43, 23432, 768, \"Aditya\", 83284]\n",
    "l2.insert(1, \"Gargi\")\n",
    "l2"
   ]
  },
  {
   "cell_type": "code",
   "execution_count": 1253,
   "metadata": {},
   "outputs": [
    {
     "data": {
      "text/plain": [
       "[43, 'Gargi', 23432, 768, 'Aditya', 89, 83284]"
      ]
     },
     "execution_count": 1253,
     "metadata": {},
     "output_type": "execute_result"
    }
   ],
   "source": [
    "l2.insert(-1, 89)\n",
    "l2"
   ]
  },
  {
   "cell_type": "code",
   "execution_count": 1254,
   "metadata": {},
   "outputs": [
    {
     "data": {
      "text/plain": [
       "['Gargi', 23432, 768, 'Aditya', 89, 83284]"
      ]
     },
     "execution_count": 1254,
     "metadata": {},
     "output_type": "execute_result"
    }
   ],
   "source": [
    "# l.pop(x) - removes element at index x. Default value = -1\n",
    "l2.pop(0)\n",
    "l2"
   ]
  },
  {
   "cell_type": "code",
   "execution_count": 1255,
   "metadata": {},
   "outputs": [
    {
     "data": {
      "text/plain": [
       "83284"
      ]
     },
     "execution_count": 1255,
     "metadata": {},
     "output_type": "execute_result"
    }
   ],
   "source": [
    "# Remove the last element\n",
    "l2.pop()"
   ]
  },
  {
   "cell_type": "code",
   "execution_count": 1256,
   "metadata": {},
   "outputs": [
    {
     "name": "stdout",
     "output_type": "stream",
     "text": [
      "['Gargi', 23432, 768, 'Aditya', 89]\n",
      "['Gargi', 23432, 'Aditya', 89]\n"
     ]
    }
   ],
   "source": [
    "# l.remove(x) - removes the first iteration of the element x from the list.\n",
    "print(l2)\n",
    "l2.remove(768)\n",
    "print(l2)"
   ]
  },
  {
   "cell_type": "code",
   "execution_count": 1257,
   "metadata": {},
   "outputs": [
    {
     "name": "stdout",
     "output_type": "stream",
     "text": [
      "[6, 3, 22, 'Aditya', True, (5+7j), 424.32, 'Gargi', 'Ad', [132, 3123, '546643', 'Data'], 'J', 'e', 'h', 'n', 'a', 'b', 'a', 'd', 'Bihar', 1, 2, 3]\n",
      "[6, 3, 22, 'Aditya', True, (5+7j), 424.32, 'Gargi', 'Ad', [132, '546643', 'Data'], 'J', 'e', 'h', 'n', 'a', 'b', 'a', 'd', 'Bihar', 1, 2, 3]\n"
     ]
    }
   ],
   "source": [
    "# Removing a list item that is inside another list.\n",
    "# l.remove(l[9][2])\n",
    "print(l)\n",
    "(l[9]).remove(3123)\n",
    "print(l)"
   ]
  },
  {
   "cell_type": "code",
   "execution_count": 1258,
   "metadata": {},
   "outputs": [
    {
     "name": "stdout",
     "output_type": "stream",
     "text": [
      "[6, 3, 22, 'Aditya', True, (5+7j), 424.32, 'Gargi', 'Ad', [132, '546643', 'Data'], 'J', 'e', 'h', 'n', 'a', 'b', 'a', 'd', 'Bihar', 1, 2, 3]\n",
      "[3, 2, 1, 'Bihar', 'd', 'a', 'b', 'a', 'n', 'h', 'e', 'J', [132, '546643', 'Data'], 'Ad', 'Gargi', 424.32, (5+7j), True, 'Aditya', 22, 3, 6]\n",
      "[3, 2, 1, 'Bihar', 'd', 'a', 'b', 'a', 'n', 'h', 'e', 'J', [132, '546643', 'Data'], 'Ad', 'Gargi', 424.32, (5+7j), True, 'Aditya', 22, 3, 6]\n"
     ]
    }
   ],
   "source": [
    "print(l)\n",
    "print(l[::-1]) # Reverses the list\n",
    "l.reverse() # Reverses the list\n",
    "print(l)"
   ]
  },
  {
   "cell_type": "code",
   "execution_count": 1259,
   "metadata": {},
   "outputs": [
    {
     "data": {
      "text/plain": [
       "[5, 32, 35, 45, 345, 2878, 4534, 5435]"
      ]
     },
     "execution_count": 1259,
     "metadata": {},
     "output_type": "execute_result"
    }
   ],
   "source": [
    "li = [32, 45, 35, 5, 4534, 5435, 2878, 345]\n",
    "li.sort()\n",
    "li"
   ]
  },
  {
   "cell_type": "code",
   "execution_count": 1260,
   "metadata": {},
   "outputs": [
    {
     "data": {
      "text/plain": [
       "[5435, 4534, 2878, 345, 45, 35, 32, 5]"
      ]
     },
     "execution_count": 1260,
     "metadata": {},
     "output_type": "execute_result"
    }
   ],
   "source": [
    "li.sort(reverse=True)\n",
    "li"
   ]
  },
  {
   "cell_type": "code",
   "execution_count": 1261,
   "metadata": {},
   "outputs": [
    {
     "name": "stderr",
     "output_type": "stream",
     "text": [
      "/home/aditya/.local/lib/python3.10/site-packages/IPython/core/displayhook.py:275: UserWarning: Output cache limit (currently 1000 entries) hit.\n",
      "Flushing oldest 200 entries.\n",
      "  warn('Output cache limit (currently {sz} entries) hit.\\n'\n"
     ]
    },
    {
     "data": {
      "text/plain": [
       "['Aditya', 'Gargi', 'Gourav', 'Mridul', 'Sumit', 'Supriya']"
      ]
     },
     "execution_count": 1261,
     "metadata": {},
     "output_type": "execute_result"
    }
   ],
   "source": [
    "ls = [\"Aditya\", \"Gargi\", \"Gourav\", \"Sumit\", \"Supriya\", \"Mridul\"]\n",
    "ls.sort()\n",
    "ls\n"
   ]
  },
  {
   "cell_type": "code",
   "execution_count": 1262,
   "metadata": {},
   "outputs": [
    {
     "data": {
      "text/plain": [
       "['Supriya', 'Sumit', 'Mridul', 'Gourav', 'Gargi', 'Aditya']"
      ]
     },
     "execution_count": 1262,
     "metadata": {},
     "output_type": "execute_result"
    }
   ],
   "source": [
    "ls.sort(reverse=True)\n",
    "ls"
   ]
  },
  {
   "cell_type": "code",
   "execution_count": 1263,
   "metadata": {},
   "outputs": [
    {
     "name": "stdout",
     "output_type": "stream",
     "text": [
      "[3, 2, 1, 'Bihar', 'd', 'a', 'b', 'a', 'n', 'h', 'e', 'J', [132, '546643', 'Data'], 'Ad', 'Gargi', 424.32, (5+7j), True, 'Aditya', 22, 3, 6]\n"
     ]
    },
    {
     "data": {
      "text/plain": [
       "14"
      ]
     },
     "execution_count": 1263,
     "metadata": {},
     "output_type": "execute_result"
    }
   ],
   "source": [
    "# index(x) - Index of element x\n",
    "print(l)\n",
    "l.index(\"Gargi\")"
   ]
  },
  {
   "cell_type": "code",
   "execution_count": 1264,
   "metadata": {},
   "outputs": [
    {
     "name": "stdout",
     "output_type": "stream",
     "text": [
      "[3, 2, 'Hii', 'Bihar', 'd', 'a', 'b', 'a', 'n', 'h', 'e', 'J', [132, '546643', 'Data'], 'Ad', 'Gargi', 424.32, (5+7j), True, 'Aditya', 22, 3, 6]\n"
     ]
    }
   ],
   "source": [
    "l[2] = \"Hii\"\n",
    "print(l)"
   ]
  },
  {
   "cell_type": "code",
   "execution_count": 1265,
   "metadata": {},
   "outputs": [
    {
     "data": {
      "text/plain": [
       "'Hiiditya'"
      ]
     },
     "execution_count": 1265,
     "metadata": {},
     "output_type": "execute_result"
    }
   ],
   "source": [
    "s = \"Aditya\"\n",
    "# s[0] = \"Hii\" # can't be assigned - Strings are immutable\n",
    "# But\n",
    "s = s.replace(\"A\", \"Hii\") # It's because S is getting allocated to a new memory allocation. It doesn't represnet mutability.\n",
    "s"
   ]
  },
  {
   "attachments": {},
   "cell_type": "markdown",
   "metadata": {},
   "source": [
    "Tuples\n",
    "- Immutable\n",
    "- Once defined element can't be altered or manipulated."
   ]
  },
  {
   "cell_type": "code",
   "execution_count": 1266,
   "metadata": {},
   "outputs": [
    {
     "data": {
      "text/plain": [
       "tuple"
      ]
     },
     "execution_count": 1266,
     "metadata": {},
     "output_type": "execute_result"
    }
   ],
   "source": [
    "t = (6, 3, 22, \"Aditya\",True, 5+7j, 424.32)\n",
    "type(t)"
   ]
  },
  {
   "cell_type": "code",
   "execution_count": 1267,
   "metadata": {},
   "outputs": [
    {
     "data": {
      "text/plain": [
       "7"
      ]
     },
     "execution_count": 1267,
     "metadata": {},
     "output_type": "execute_result"
    }
   ],
   "source": [
    "len(t)"
   ]
  },
  {
   "cell_type": "code",
   "execution_count": 1268,
   "metadata": {},
   "outputs": [],
   "source": [
    "# Tuples are immutable\n",
    "# t[0] = \"Hello\""
   ]
  },
  {
   "attachments": {},
   "cell_type": "markdown",
   "metadata": {},
   "source": [
    "Set\n",
    "- A collection of non-repeatitive elements\n",
    "- Unique elements\n",
    "- Unordered\n",
    "- Unindexed\n",
    "- Hashed"
   ]
  },
  {
   "cell_type": "code",
   "execution_count": 1269,
   "metadata": {},
   "outputs": [
    {
     "data": {
      "text/plain": [
       "set"
      ]
     },
     "execution_count": 1269,
     "metadata": {},
     "output_type": "execute_result"
    }
   ],
   "source": [
    "s = {6, 3, 22, \"Aditya\", True, 5+7j, 424.32}\n",
    "type(s)"
   ]
  },
  {
   "cell_type": "code",
   "execution_count": 1270,
   "metadata": {},
   "outputs": [
    {
     "data": {
      "text/plain": [
       "[1, 3, 4, 9, 312, 3434, 1, 5, 3, 6, 8, 4, 'Aditya', 'aditya']"
      ]
     },
     "execution_count": 1270,
     "metadata": {},
     "output_type": "execute_result"
    }
   ],
   "source": [
    "l3 = [1, 3, 4, 9, 312, 3434, 1, 5, 3, 6, 8, 4, \"Aditya\", \"aditya\"]\n",
    "l3"
   ]
  },
  {
   "cell_type": "code",
   "execution_count": 1271,
   "metadata": {},
   "outputs": [
    {
     "name": "stdout",
     "output_type": "stream",
     "text": [
      "{1, 3, 4, 5, 6, 8, 9, 3434, 'aditya', 312, 'Aditya'}\n"
     ]
    }
   ],
   "source": [
    "# list(set(l3))\n",
    "print(set(l3))"
   ]
  },
  {
   "cell_type": "code",
   "execution_count": 14,
   "metadata": {},
   "outputs": [
    {
     "name": "stdout",
     "output_type": "stream",
     "text": [
      "['0', '10', '20', '30', '40', '50']\n"
     ]
    }
   ],
   "source": [
    "list_out=[]\n",
    "\n",
    "for i in range(0,51,10):\n",
    "\n",
    "    list_out.append(str(i))\n",
    "\n",
    "print(list_out)"
   ]
  }
 ],
 "metadata": {
  "kernelspec": {
   "display_name": "Python 3",
   "language": "python",
   "name": "python3"
  },
  "language_info": {
   "codemirror_mode": {
    "name": "ipython",
    "version": 3
   },
   "file_extension": ".py",
   "mimetype": "text/x-python",
   "name": "python",
   "nbconvert_exporter": "python",
   "pygments_lexer": "ipython3",
   "version": "3.10.9"
  },
  "orig_nbformat": 4,
  "vscode": {
   "interpreter": {
    "hash": "916dbcbb3f70747c44a77c7bcd40155683ae19c65e1c03b4aa3499c5328201f1"
   }
  }
 },
 "nbformat": 4,
 "nbformat_minor": 2
}
