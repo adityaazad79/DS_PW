{
 "cells": [
  {
   "cell_type": "code",
   "execution_count": 1,
   "metadata": {},
   "outputs": [],
   "source": [
    "from threading import *\n",
    "from logging import *\n",
    "\n",
    "basicConfig(filename=\"1_Log.log\", level=INFO, filemode=\"w\")"
   ]
  },
  {
   "cell_type": "code",
   "execution_count": 2,
   "metadata": {},
   "outputs": [],
   "source": [
    "def test(id):\n",
    "    info(\"prog start %d\", id)\n"
   ]
  },
  {
   "cell_type": "code",
   "execution_count": 3,
   "metadata": {},
   "outputs": [],
   "source": [
    "test(45)"
   ]
  },
  {
   "cell_type": "code",
   "execution_count": 4,
   "metadata": {},
   "outputs": [],
   "source": [
    "thrd = [Thread(target=test, args=(i,)) for i in range(10)]"
   ]
  },
  {
   "cell_type": "code",
   "execution_count": 5,
   "metadata": {},
   "outputs": [],
   "source": [
    "for t in thrd:\n",
    "    t.start()"
   ]
  },
  {
   "cell_type": "code",
   "execution_count": 6,
   "metadata": {},
   "outputs": [
    {
     "data": {
      "text/plain": [
       "[<Thread(Thread-4 (test), stopped 139781883274944)>,\n",
       " <Thread(Thread-5 (test), stopped 139781883274944)>,\n",
       " <Thread(Thread-6 (test), stopped 139781874882240)>,\n",
       " <Thread(Thread-7 (test), stopped 139781874882240)>,\n",
       " <Thread(Thread-8 (test), stopped 139781874882240)>,\n",
       " <Thread(Thread-9 (test), stopped 139781883274944)>,\n",
       " <Thread(Thread-10 (test), stopped 139781874882240)>,\n",
       " <Thread(Thread-11 (test), stopped 139781388367552)>,\n",
       " <Thread(Thread-12 (test), stopped 139781874882240)>,\n",
       " <Thread(Thread-13 (test), stopped 139781883274944)>]"
      ]
     },
     "execution_count": 6,
     "metadata": {},
     "output_type": "execute_result"
    }
   ],
   "source": [
    "thrd"
   ]
  },
  {
   "cell_type": "code",
   "execution_count": 7,
   "metadata": {},
   "outputs": [],
   "source": [
    "from threading import *\n",
    "# Import files from different urls\n",
    "from urllib import request"
   ]
  },
  {
   "cell_type": "code",
   "execution_count": 8,
   "metadata": {},
   "outputs": [],
   "source": [
    "def file_download(url, filename):\n",
    "    request.urlretrieve(url, filename)\n"
   ]
  },
  {
   "cell_type": "code",
   "execution_count": 9,
   "metadata": {},
   "outputs": [
    {
     "data": {
      "text/plain": [
       "['https://raw.githubusercontent.com/agusalvs/salvando-patitas/develop/requirements.txt',\n",
       " 'https://raw.githubusercontent.com/adityaazad79/CP/main/1SolveMeFirst.c',\n",
       " 'https://raw.githubusercontent.com/thanavignesh/100-RTL-PROGRAMS/main/COMBINATIONAL%20CIRCUITS/2.encoder/encoder_8x3.v']"
      ]
     },
     "execution_count": 9,
     "metadata": {},
     "output_type": "execute_result"
    }
   ],
   "source": [
    "url_list = [\"https://raw.githubusercontent.com/agusalvs/salvando-patitas/develop/requirements.txt\", \"https://raw.githubusercontent.com/adityaazad79/CP/main/1SolveMeFirst.c\",\n",
    "            \"https://raw.githubusercontent.com/thanavignesh/100-RTL-PROGRAMS/main/COMBINATIONAL%20CIRCUITS/2.encoder/encoder_8x3.v\"]\n",
    "url_list"
   ]
  },
  {
   "cell_type": "code",
   "execution_count": 10,
   "metadata": {},
   "outputs": [],
   "source": [
    "file_name_list = [\"1_data.txt\", \"2_data.txt\", \"3_data.txt\"]"
   ]
  },
  {
   "cell_type": "code",
   "execution_count": 11,
   "metadata": {},
   "outputs": [],
   "source": [
    "th = [Thread(target=file_download, args=(url_list[i], file_name_list[i]))\n",
    "      for i in range(len(url_list))]"
   ]
  },
  {
   "cell_type": "code",
   "execution_count": 12,
   "metadata": {},
   "outputs": [],
   "source": [
    "for t in th:\n",
    "    t.start()"
   ]
  },
  {
   "cell_type": "code",
   "execution_count": 13,
   "metadata": {},
   "outputs": [],
   "source": [
    "import time"
   ]
  },
  {
   "cell_type": "code",
   "execution_count": 14,
   "metadata": {},
   "outputs": [],
   "source": [
    "def test1(id):\n",
    "    for i in range(10):\n",
    "        print(\"test1 %d printing %d %s\" % (id, i, time.ctime()))\n",
    "        # time.sleep(1)"
   ]
  },
  {
   "cell_type": "code",
   "execution_count": 15,
   "metadata": {},
   "outputs": [
    {
     "name": "stdout",
     "output_type": "stream",
     "text": [
      "test1 1 printing 0 Wed Feb 15 16:39:29 2023\n",
      "test1 1 printing 1 Wed Feb 15 16:39:29 2023\n",
      "test1 1 printing 2 Wed Feb 15 16:39:29 2023\n",
      "test1 1 printing 3 Wed Feb 15 16:39:29 2023\n",
      "test1 1 printing 4 Wed Feb 15 16:39:29 2023\n",
      "test1 1 printing 5 Wed Feb 15 16:39:29 2023\n",
      "test1 1 printing 6 Wed Feb 15 16:39:29 2023\n",
      "test1 1 printing 7 Wed Feb 15 16:39:29 2023\n",
      "test1 1 printing 8 Wed Feb 15 16:39:29 2023\n",
      "test1 1 printing 9 Wed Feb 15 16:39:29 2023\n"
     ]
    }
   ],
   "source": [
    "test1(1)"
   ]
  },
  {
   "cell_type": "code",
   "execution_count": 16,
   "metadata": {},
   "outputs": [],
   "source": [
    "th1 = [Thread(target=test1, args=(i,)) for i in range(3)]"
   ]
  },
  {
   "cell_type": "code",
   "execution_count": 17,
   "metadata": {},
   "outputs": [
    {
     "name": "stdout",
     "output_type": "stream",
     "text": [
      "test1 0 printing 0 Wed Feb 15 16:39:29 2023\n",
      "test1 0 printing 1 Wed Feb 15 16:39:29 2023\n",
      "test1 0 printing 2 Wed Feb 15 16:39:29 2023\n",
      "test1 0 printing 3 Wed Feb 15 16:39:29 2023\n",
      "test1 0 printing 4 Wed Feb 15 16:39:29 2023\n",
      "test1 0 printing 5 Wed Feb 15 16:39:29 2023\n",
      "test1 0 printing 6 Wed Feb 15 16:39:29 2023\n",
      "test1 0 printing 7 Wed Feb 15 16:39:29 2023\n",
      "test1 0 printing 8 Wed Feb 15 16:39:29 2023\n",
      "test1 0 printing 9 Wed Feb 15 16:39:29 2023\n",
      "test1 1 printing 0 Wed Feb 15 16:39:29 2023\n",
      "test1 1 printing 1 Wed Feb 15 16:39:29 2023\n",
      "test1 1 printing 2 Wed Feb 15 16:39:29 2023\n",
      "test1 1 printing 3 Wed Feb 15 16:39:29 2023\n",
      "test1 1 printing 4 Wed Feb 15 16:39:29 2023\n",
      "test1 1 printing 5 Wed Feb 15 16:39:29 2023\n",
      "test1 1 printing 6 Wed Feb 15 16:39:29 2023\n",
      "test1 1 printing 7 Wed Feb 15 16:39:29 2023\n",
      "test1 1 printing 8 Wed Feb 15 16:39:29 2023\n",
      "test1 1 printing 9 Wed Feb 15 16:39:29 2023\n",
      "test1 2 printing 0 Wed Feb 15 16:39:29 2023\n",
      "test1 2 printing 1 Wed Feb 15 16:39:29 2023\n",
      "test1 2 printing 2 Wed Feb 15 16:39:29 2023\n",
      "test1 2 printing 3 Wed Feb 15 16:39:29 2023\n",
      "test1 2 printing 4 Wed Feb 15 16:39:29 2023\n",
      "test1 2 printing 5 Wed Feb 15 16:39:29 2023\n",
      "test1 2 printing 6 Wed Feb 15 16:39:29 2023\n",
      "test1 2 printing 7 Wed Feb 15 16:39:29 2023\n",
      "test1 2 printing 8 Wed Feb 15 16:39:29 2023\n",
      "test1 2 printing 9 Wed Feb 15 16:39:29 2023\n"
     ]
    }
   ],
   "source": [
    "for t in th1:\n",
    "    t.start()"
   ]
  },
  {
   "attachments": {},
   "cell_type": "markdown",
   "metadata": {},
   "source": [
    "## Shared resources"
   ]
  },
  {
   "cell_type": "code",
   "execution_count": 18,
   "metadata": {},
   "outputs": [],
   "source": []
  },
  {
   "cell_type": "code",
   "execution_count": 38,
   "metadata": {},
   "outputs": [
    {
     "name": "stdout",
     "output_type": "stream",
     "text": [
      "test2 id is 0 has increased the shared variable by 1\n"
     ]
    },
    {
     "name": "stdout",
     "output_type": "stream",
     "text": [
      "test2 id is 1 has increased the shared variable by 2\n",
      "test2 id is 2 has increased the shared variable by 3\n"
     ]
    }
   ],
   "source": [
    "shared_var = 0\n",
    "lock_var = Lock()\n",
    "\n",
    "\n",
    "def test2(id):\n",
    "    global shared_var\n",
    "    with lock_var:\n",
    "        shared_var = shared_var+1\n",
    "        print(\"test2 id is %d has increased the shared variable by %d\" %\n",
    "              (id, shared_var))\n",
    "        time.sleep(1)\n",
    "\n",
    "\n",
    "th2 = [Thread(target=test2, args=(i,)) for i in range(3)]\n",
    "\n",
    "for t in th2:\n",
    "    t.start()"
   ]
  }
 ],
 "metadata": {
  "kernelspec": {
   "display_name": "Python 3",
   "language": "python",
   "name": "python3"
  },
  "language_info": {
   "codemirror_mode": {
    "name": "ipython",
    "version": 3
   },
   "file_extension": ".py",
   "mimetype": "text/x-python",
   "name": "python",
   "nbconvert_exporter": "python",
   "pygments_lexer": "ipython3",
   "version": "3.10.9"
  },
  "orig_nbformat": 4,
  "vscode": {
   "interpreter": {
    "hash": "916dbcbb3f70747c44a77c7bcd40155683ae19c65e1c03b4aa3499c5328201f1"
   }
  }
 },
 "nbformat": 4,
 "nbformat_minor": 2
}
