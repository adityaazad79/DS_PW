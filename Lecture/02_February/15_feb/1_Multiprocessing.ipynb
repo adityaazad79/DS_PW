{
 "cells": [
  {
   "attachments": {},
   "cell_type": "markdown",
   "metadata": {},
   "source": [
    "## Multiprocessing"
   ]
  },
  {
   "cell_type": "code",
   "execution_count": null,
   "metadata": {},
   "outputs": [],
   "source": [
    "import multiprocessing\n",
    "\n",
    "\n",
    "def test():\n",
    "    print(\"This is my multiprocessing program\")\n",
    "\n",
    "\n",
    "if __name__ == \"__main__\":\n",
    "    m = multiprocessing.Process(target=test)\n",
    "    print(\"This is my main program\")\n",
    "    m.start()  # Start child proces\n",
    "    m.join()  # Wait for child process to finish and release resources\n"
   ]
  },
  {
   "cell_type": "code",
   "execution_count": null,
   "metadata": {},
   "outputs": [],
   "source": [
    "import time\n",
    "\n",
    "\n",
    "def sq(n):\n",
    "    return n**2\n",
    "\n",
    "\n",
    "def cube(n):\n",
    "    return n**3\n",
    "\n",
    "\n",
    "if __name__ == '__main__':\n",
    "    t1 = time.time()\n",
    "    with multiprocessing.Pool(processes=4) as pool:\n",
    "        l = list(range(10))\n",
    "        out = pool.map(sq, l)\n",
    "        print(out)\n",
    "        out = pool.map(cube, l)\n",
    "        print(out)\n",
    "\n",
    "    t2 = time.time()\n",
    "    print(t2 - t1)\n"
   ]
  },
  {
   "cell_type": "code",
   "execution_count": null,
   "metadata": {},
   "outputs": [],
   "source": [
    "# Queue\n",
    "\n",
    "import multiprocessing\n",
    "\n",
    "\n",
    "def producer(q):\n",
    "    for i in range(10):\n",
    "        q.put(i)\n",
    "\n",
    "\n",
    "def consumer(q):\n",
    "    while True:\n",
    "        item = q.get()\n",
    "        if item is None:\n",
    "            break\n",
    "        print(item)\n",
    "\n",
    "\n",
    "if __name__ == '__main__':\n",
    "    queue = multiprocessing.Queue()\n",
    "    m1 = multiprocessing.Process(target=producer, args=(queue,))\n",
    "    m2 = multiprocessing.Process(target=consumer, args=(queue,))\n",
    "    m1.start()\n",
    "    m2.start()\n",
    "    queue.put(\"Aditya\")\n",
    "    m1.join()\n",
    "    m2.join()\n"
   ]
  },
  {
   "cell_type": "code",
   "execution_count": null,
   "metadata": {},
   "outputs": [],
   "source": [
    "# Array\n",
    "\n",
    "import multiprocessing\n",
    "\n",
    "\n",
    "def sq(index, value):\n",
    "    value[index] = value[index]**2\n",
    "\n",
    "\n",
    "if __name__ == '__main__':\n",
    "    arr = multiprocessing.Array(\"i\", list(range(2, 9)))\n",
    "    process = []\n",
    "    for i in range(7):\n",
    "        m = multiprocessing.Process(target=sq, args=(i, arr))\n",
    "        process.append(m)\n",
    "        m.start()\n",
    "    for m in process:\n",
    "        m.join()\n",
    "    print(list(arr))\n"
   ]
  },
  {
   "cell_type": "code",
   "execution_count": null,
   "metadata": {},
   "outputs": [],
   "source": [
    "# Pipe\n",
    "\n",
    "import multiprocessing\n",
    "\n",
    "\n",
    "def sender(conn, msg):\n",
    "    for i in msg:\n",
    "        conn.send(i)\n",
    "    conn.close()\n",
    "\n",
    "\n",
    "def receiver(conn):\n",
    "    while True:\n",
    "        try:\n",
    "            msg = conn.recv()\n",
    "        except Exception as e:\n",
    "            print(e)\n",
    "            break\n",
    "        print(msg)\n",
    "\n",
    "\n",
    "if __name__ == '__main__':\n",
    "    msg = [\"This is Aditya\", \"This is a message to Gargi\", \"This is data science\"]\n",
    "    parent_con, child_con = multiprocessing.Pipe()\n",
    "    m1 = multiprocessing.Process(target=sender, args=(child_con, msg))\n",
    "    m2 = multiprocessing.Process(target=receiver, args=(parent_con,))\n",
    "\n",
    "    m1.start()\n",
    "    m2.start()\n",
    "\n",
    "    m1.join()\n",
    "    child_con.close()\n",
    "    \n",
    "    m2.join()\n",
    "    parent_con.close()\n"
   ]
  }
 ],
 "metadata": {
  "kernelspec": {
   "display_name": "Python 3",
   "language": "python",
   "name": "python3"
  },
  "language_info": {
   "codemirror_mode": {
    "name": "ipython",
    "version": 3
   },
   "file_extension": ".py",
   "mimetype": "text/x-python",
   "name": "python",
   "nbconvert_exporter": "python",
   "pygments_lexer": "ipython3",
   "version": "3.10.9"
  },
  "orig_nbformat": 4,
  "vscode": {
   "interpreter": {
    "hash": "916dbcbb3f70747c44a77c7bcd40155683ae19c65e1c03b4aa3499c5328201f1"
   }
  }
 },
 "nbformat": 4,
 "nbformat_minor": 2
}
