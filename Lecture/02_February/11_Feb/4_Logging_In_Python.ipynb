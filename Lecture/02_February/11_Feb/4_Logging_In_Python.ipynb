{
 "cells": [
  {
   "cell_type": "code",
   "execution_count": 1,
   "metadata": {},
   "outputs": [],
   "source": [
    "import logging\n",
    "logging.basicConfig(filename=\"test.log\", level=logging.INFO)\n",
    "logging.info(\"log this line of execution\")\n",
    "logging.info(\"log this 2nd line of execution\")\n"
   ]
  },
  {
   "attachments": {},
   "cell_type": "markdown",
   "metadata": {},
   "source": [
    "### Levels of logging\n",
    "\n",
    "1. NOTSET\n",
    "2. DEBUG\n",
    "3. INFO\n",
    "4. WARNING (default)\n",
    "5. ERROR\n",
    "6. CRITICAL\n"
   ]
  },
  {
   "cell_type": "code",
   "execution_count": 2,
   "metadata": {},
   "outputs": [],
   "source": [
    "logging.debug(\"This is my debug\")  # This won't be logged\n"
   ]
  },
  {
   "cell_type": "code",
   "execution_count": 3,
   "metadata": {},
   "outputs": [],
   "source": [
    "logging.warning(\"This is my warning\")\n"
   ]
  },
  {
   "cell_type": "code",
   "execution_count": 4,
   "metadata": {},
   "outputs": [],
   "source": [
    "logging.error(\"This is my error\")\n"
   ]
  },
  {
   "cell_type": "code",
   "execution_count": 5,
   "metadata": {},
   "outputs": [],
   "source": [
    "logging.critical(\"This is my critical\")"
   ]
  },
  {
   "cell_type": "code",
   "execution_count": 6,
   "metadata": {},
   "outputs": [],
   "source": [
    "# Shutdown logging \"text.log\"\n",
    "\n",
    "logging.shutdown()"
   ]
  },
  {
   "cell_type": "code",
   "execution_count": 7,
   "metadata": {},
   "outputs": [],
   "source": [
    "import logging\n",
    "# logging.basicConfig(filename=\"%slog\" % __file__[:-2],\n",
    "logging.basicConfig(filename=\"test2.log\",\n",
    "                    level=logging.INFO,\n",
    "                    format='%(asctime)s %(levelname)s %(message)s')\n",
    "# logging.basicConfig(filename=\"sdfgfdgfd.log\", level=logging.DEBUG)\n",
    "# logging.basicConfig(filename=\"test.log\", level=logging.INFO)\n"
   ]
  },
  {
   "cell_type": "code",
   "execution_count": 8,
   "metadata": {},
   "outputs": [],
   "source": [
    "logging.info(\"This is my info logging\")\n",
    "logging.error(\"This is my error msg\")\n",
    "logging.critical(\"This is my critical\")"
   ]
  },
  {
   "cell_type": "code",
   "execution_count": 9,
   "metadata": {},
   "outputs": [],
   "source": [
    "logging.shutdown()"
   ]
  },
  {
   "cell_type": "code",
   "execution_count": 10,
   "metadata": {},
   "outputs": [],
   "source": [
    "import logging\n",
    "logging.basicConfig(filename=\"test3.log\", level=logging.DEBUG, format=\"%(asctime)s %(name)s %(levelname)s %(message)s\")"
   ]
  },
  {
   "cell_type": "code",
   "execution_count": 11,
   "metadata": {},
   "outputs": [],
   "source": [
    "logging.info(\"This is logging info test3\")\n",
    "logging.error(\"This is logging error test3\")\n",
    "logging.critical(\"This is logging critical test3\")"
   ]
  },
  {
   "cell_type": "code",
   "execution_count": 12,
   "metadata": {},
   "outputs": [],
   "source": [
    "l = [1, 2, 3, 4, [2, 3, 4], \"Aditya\", \"Gargi\"]\n",
    "# Seperate string and integer\n",
    "li = []  # List for integer\n",
    "ls = []  # List for string\n",
    "for i in l:\n",
    "    logging.info(\n",
    "        \"We are iterating through our list and local var is i {}\".format(l))\n",
    "    if type(i) == list:\n",
    "        logging.info(\n",
    "            \"I am inside if statement and I am trying to check list type \" + str(i))\n",
    "        for j in i:\n",
    "            logging.info(\n",
    "                \"I am inside another for loop for list inside list element \" + str(j))\n",
    "            if type(j) == int:\n",
    "                logging.info(\"i am inside if statement\")\n",
    "                li.append(j)\n",
    "    elif type(i) == int:\n",
    "        li.append(i)\n",
    "    else:\n",
    "        if type(i) == str:\n",
    "            ls.append(i)\n",
    "\n",
    "logging.info(\"My final result for int is {l1} and str is {l2}\" .format(l1=li, l2=ls))\n"
   ]
  },
  {
   "cell_type": "code",
   "execution_count": 13,
   "metadata": {},
   "outputs": [
    {
     "data": {
      "text/plain": [
       "[1, 2, 3, 4, 2, 3, 4]"
      ]
     },
     "execution_count": 13,
     "metadata": {},
     "output_type": "execute_result"
    }
   ],
   "source": [
    "li"
   ]
  },
  {
   "cell_type": "code",
   "execution_count": 14,
   "metadata": {},
   "outputs": [
    {
     "data": {
      "text/plain": [
       "['Aditya', 'Gargi']"
      ]
     },
     "execution_count": 14,
     "metadata": {},
     "output_type": "execute_result"
    }
   ],
   "source": [
    "ls"
   ]
  }
 ],
 "metadata": {
  "kernelspec": {
   "display_name": "Python 3",
   "language": "python",
   "name": "python3"
  },
  "language_info": {
   "codemirror_mode": {
    "name": "ipython",
    "version": 3
   },
   "file_extension": ".py",
   "mimetype": "text/x-python",
   "name": "python",
   "nbconvert_exporter": "python",
   "pygments_lexer": "ipython3",
   "version": "3.10.9"
  },
  "orig_nbformat": 4,
  "vscode": {
   "interpreter": {
    "hash": "916dbcbb3f70747c44a77c7bcd40155683ae19c65e1c03b4aa3499c5328201f1"
   }
  }
 },
 "nbformat": 4,
 "nbformat_minor": 2
}
