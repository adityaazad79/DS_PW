{
 "cells": [
  {
   "cell_type": "code",
   "execution_count": 34,
   "id": "69bb4cc3-3bd9-4448-b761-2dfa9a677192",
   "metadata": {},
   "outputs": [],
   "source": [
    "data = {\n",
    "    \"name\": \"aditya\",\n",
    "    \"mail_id\": \"aditya@gmail.com\",\n",
    "    \"phone number\": 785647447,\n",
    "    \"subject\": [\"data science \", \"big data\", \"data analytics\"]\n",
    "}"
   ]
  },
  {
   "cell_type": "code",
   "execution_count": 35,
   "id": "ad899eeb-355b-4097-a70c-27803788fb30",
   "metadata": {},
   "outputs": [],
   "source": [
    "import json"
   ]
  },
  {
   "cell_type": "code",
   "execution_count": 36,
   "id": "0b6e9b1f-24c6-4180-a957-a9e62092c2ea",
   "metadata": {},
   "outputs": [],
   "source": [
    "with open(\"data.json\" , \"w\" ) as f :\n",
    "    json.dump(data , f)"
   ]
  },
  {
   "cell_type": "code",
   "execution_count": 37,
   "id": "1bc8850c-184c-4dcf-aa16-d19132da670d",
   "metadata": {},
   "outputs": [],
   "source": [
    "with open(\"data.json\" , \"r\") as f :\n",
    "    data1 = json.load(f)"
   ]
  },
  {
   "cell_type": "code",
   "execution_count": 38,
   "id": "ed04089f-cffa-43b6-9e9d-bfbe2e1542b7",
   "metadata": {},
   "outputs": [
    {
     "data": {
      "text/plain": [
       "{'name': 'aditya',\n",
       " 'mail_id': 'aditya@gmail.com',\n",
       " 'phone number': 785647447,\n",
       " 'subject': ['data science ', 'big data', 'data analytics']}"
      ]
     },
     "execution_count": 38,
     "metadata": {},
     "output_type": "execute_result"
    }
   ],
   "source": [
    "data1"
   ]
  },
  {
   "cell_type": "code",
   "execution_count": 39,
   "id": "8a69b821-5b4b-4099-93bf-95a3ac6f0a0b",
   "metadata": {},
   "outputs": [
    {
     "data": {
      "text/plain": [
       "'big data'"
      ]
     },
     "execution_count": 39,
     "metadata": {},
     "output_type": "execute_result"
    }
   ],
   "source": [
    "data1['subject'][1]"
   ]
  },
  {
   "cell_type": "code",
   "execution_count": 40,
   "id": "8ce1a39c-7bd8-49e1-be80-c3bab7db9740",
   "metadata": {},
   "outputs": [],
   "source": [
    "import csv"
   ]
  },
  {
   "cell_type": "code",
   "execution_count": 41,
   "id": "f9b40dae-e35d-4cf7-bcff-d95449383e26",
   "metadata": {},
   "outputs": [],
   "source": [
    "data = [[\"name\" , \"email_id\" , \"phone_number\"],\n",
    "        [\"aditya\" ,\"aditya@gmail.com\" , 92342424],\n",
    "        [\"kreish\" , \"krrish@gmail.com\" , 9324242]\n",
    "]"
   ]
  },
  {
   "cell_type": "code",
   "execution_count": 42,
   "id": "c3c68007-fd47-4dc2-94dc-11d9634f5b96",
   "metadata": {},
   "outputs": [],
   "source": [
    "with open(\"data.csv\" , \"w\" ) as f :\n",
    "    writer = csv.writer(f)\n",
    "    \n",
    "    for i in data:\n",
    "        writer.writerow(i)\n",
    "    \n",
    "    "
   ]
  },
  {
   "cell_type": "code",
   "execution_count": 43,
   "id": "8da0e12d-5244-4bb2-b7d8-2aeb4a13b258",
   "metadata": {},
   "outputs": [
    {
     "name": "stdout",
     "output_type": "stream",
     "text": [
      "['name', 'email_id', 'phone_number']\n",
      "['aditya', 'aditya@gmail.com', '92342424']\n",
      "['kreish', 'krrish@gmail.com', '9324242']\n"
     ]
    }
   ],
   "source": [
    "with open(\"data.csv\", 'r') as f:\n",
    "    read_data = csv.reader(f)\n",
    "\n",
    "    for i in read_data:\n",
    "        print(i)"
   ]
  },
  {
   "cell_type": "code",
   "execution_count": 44,
   "id": "d43a30f8-e102-4814-bdba-d948a063b6f1",
   "metadata": {},
   "outputs": [],
   "source": [
    "with open(\"test4.bin\" , \"wb\" ) as f :\n",
    "    f.write(b\"\\x01\\x03\\x02\\x3454235\")"
   ]
  },
  {
   "cell_type": "code",
   "execution_count": 45,
   "id": "90da0648-9bfe-4c7c-a30b-7345ed23a44e",
   "metadata": {},
   "outputs": [
    {
     "name": "stdout",
     "output_type": "stream",
     "text": [
      "b'\\x01\\x03\\x02454235'\n"
     ]
    }
   ],
   "source": [
    "with open(\"test4.bin\",\"rb\")as f :\n",
    "    print(f.read())"
   ]
  }
 ],
 "metadata": {
  "kernelspec": {
   "display_name": "Python 3",
   "language": "python",
   "name": "python3"
  },
  "language_info": {
   "codemirror_mode": {
    "name": "ipython",
    "version": 3
   },
   "file_extension": ".py",
   "mimetype": "text/x-python",
   "name": "python",
   "nbconvert_exporter": "python",
   "pygments_lexer": "ipython3",
   "version": "3.10.9"
  },
  "vscode": {
   "interpreter": {
    "hash": "916dbcbb3f70747c44a77c7bcd40155683ae19c65e1c03b4aa3499c5328201f1"
   }
  }
 },
 "nbformat": 4,
 "nbformat_minor": 5
}
