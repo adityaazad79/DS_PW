{
 "cells": [
  {
   "cell_type": "markdown",
   "metadata": {},
   "source": [
    "## Data Science Masters - Hindi - 15 Mar 2023"
   ]
  },
  {
   "cell_type": "markdown",
   "metadata": {},
   "source": [
    "#### Q1. Explain the following with an example:\n",
    "#### 1. Artificial Intelligence\n",
    "#### 2. Machine Learning\n",
    "#### 3. Deep Learning"
   ]
  },
  {
   "cell_type": "markdown",
   "metadata": {},
   "source": [
    "1. Artificial Intelligence (AI)\n",
    "    - Artificial Intelligence (AI) is a broad field that deals with creating machines that can perform tasks that typically require human intelligence, such as visual perception, speech recognition, decision-making, and language translation.\n",
    "    - Example\n",
    "        - A popular example of AI is virtual assistants like Siri or Alexa, which can respond to voice commands, answer questions, and perform tasks such as setting alarms or playing music.\n",
    "#\n",
    "2. Machine Learning (ML)\n",
    "    - Machine learning is a subset of AI that involves training computer algorithms to learn patterns in data without being explicitly programmed.\n",
    "    - ML algorithms use statistical models and mathematical algorithms to improve their performance on a specific task by learning from data.\n",
    "    - Example\n",
    "        - One example of machine learning is spam filtering.\n",
    "            - A machine learning algorithm can be trained on a large dataset of emails to learn the characteristics of spam emails and differentiate them from legitimate emails.\n",
    "            - Once trained, the algorithm can accurately classify incoming emails as spam or not spam.\n",
    "#\n",
    "3. Deep Learning\n",
    "    - Deep learning is a subfield of machine learning that involves training artificial neural networks to learn and improve the performance of a specific task.\n",
    "    - Deep learning algorithms are designed to learn from large amounts of data and can be used for tasks such as image or speech recognition.\n",
    "    - Example\n",
    "        - One example of deep learning is image recognition.\n",
    "            - A deep learning algorithm can be trained on a large dataset of images to learn the characteristics of different objects, such as cars or animals.\n",
    "            - Once trained, the algorithm can accurately recognize and classify objects in new images."
   ]
  },
  {
   "cell_type": "markdown",
   "metadata": {},
   "source": [
    "#### Q2. What is supervised learning? List some examples of supervised learning. "
   ]
  },
  {
   "cell_type": "markdown",
   "metadata": {},
   "source": [
    "- Supervised learning is a type of machine learning in which the algorithm learns to make predictions or decisions by training on a labeled dataset.\n",
    "- The labeled dataset consists of input data (known as features) and the corresponding correct output (known as labels).\n",
    "- The goal of supervised learning is to learn a mapping function from the input features to the output labels, which can then be used to make predictions on new, unseen data.\n",
    "#\n",
    "- Examples of supervised learning\n",
    "    - Image classification\n",
    "        - The algorithm is trained to classify images into different categories based on their features.\n",
    "        - Example\n",
    "            - A supervised learning algorithm can be trained on a dataset of labeled images of animals to learn to classify new images as either cats, dogs, or birds.\n",
    "        #\n",
    "    - Speech recognition\n",
    "        - The algorithm is trained to recognize speech and convert it into text.\n",
    "        - Example\n",
    "            - A supervised learning algorithm can be trained on a dataset of labeled audio clips to learn to recognize different words and phrases.\n",
    "            #\n",
    "    - Sentiment analysis\n",
    "        - The algorithm is trained to classify text into different sentiment categories, such as positive, negative, or neutral.\n",
    "        - A supervised learning algorithm can be trained on a dataset of labeled customer reviews to learn to classify new reviews based on their sentiment.\n",
    "        #\n",
    "    - Fraud detection\n",
    "        - The algorithm is trained to detect fraudulent transactions in a dataset of financial transactions.\n",
    "        - Example\n",
    "            - A supervised learning algorithm can be trained on a labeled dataset of previous fraudulent transactions to learn to recognize patterns and detect new instances of fraud.\n",
    "            #\n",
    "    - Stock price prediction\n",
    "        - The algorithm is trained to predict future stock prices based on historical data.\n",
    "        - Example\n",
    "            - A supervised learning algorithm can be trained on a labeled dataset of historical stock prices and economic indicators to learn to make predictions about future stock prices."
   ]
  },
  {
   "cell_type": "markdown",
   "metadata": {},
   "source": [
    "#### Q3. What is unsupervised learning? List some examples of unsupervised learning."
   ]
  },
  {
   "cell_type": "markdown",
   "metadata": {},
   "source": [
    "- Unsupervised learning is a type of machine learning in which the algorithm learns to find patterns or structure in the input data without any explicit labeling or guidance. Unlike supervised learning, there are no labels or correct outputs in unsupervised learning, and the algorithm is left to discover the underlying structure of the data on its own.\n",
    "#\n",
    "- Examples of unsupervised learning\n",
    "    - Clustering\n",
    "        - The algorithm is trained to group similar data points into clusters based on their features.\n",
    "        - Example\n",
    "            - An unsupervised learning algorithm can be trained on a dataset of customer purchase histories to group similar customers together based on their purchasing behavior.\n",
    "            #\n",
    "    - Anomaly detection\n",
    "        - The algorithm is trained to detect unusual or anomalous data points that do not fit the normal pattern of the data.\n",
    "        - Example\n",
    "            - An unsupervised learning algorithm can be trained on a dataset of credit card transactions to detect unusual or fraudulent transactions.\n",
    "            #\n",
    "    - Dimensionality reduction\n",
    "        - The algorithm is trained to reduce the dimensionality of the input data while preserving its important features.\n",
    "        - Example\n",
    "            - An unsupervised learning algorithm can be trained on a dataset of high-dimensional images to reduce the dimensionality of the images while preserving their visual features.\n",
    "            #\n",
    "    - Topic modeling\n",
    "        - The algorithm is trained to identify the underlying topics in a dataset of text documents.\n",
    "        - Example\n",
    "            - An unsupervised learning algorithm can be trained on a dataset of news articles to identify the topics that are discussed most frequently.\n",
    "            #\n",
    "    - Association rule learning\n",
    "        - The algorithm is trained to discover the frequent co-occurrences of items in a dataset.\n",
    "        - Example\n",
    "            - An unsupervised learning algorithm can be trained on a dataset of customer purchase histories to discover which items are frequently purchased together."
   ]
  },
  {
   "cell_type": "markdown",
   "metadata": {},
   "source": [
    "#### Q4. What is the difference between AI, ML, DL, and DS?"
   ]
  },
  {
   "cell_type": "markdown",
   "metadata": {},
   "source": [
    "- AI, ML, DL, and DS are all related concepts in the field of data science, but they refer to different areas of focus and have different goals.\\\\\n",
    "#\n",
    "- Here are the differences between each of these terms:\n",
    "    #\n",
    "    - Artificial Intelligence (AI)\n",
    "        - AI is a broad field of computer science that focuses on creating intelligent machines that can perform tasks that typically require human intelligence, such as visual perception, speech recognition, decision-making, and language translation.\n",
    "        #\n",
    "    - Machine Learning (ML)\n",
    "        - ML is a subset of AI that focuses on creating algorithms that can automatically learn patterns in data without being explicitly programmed.\n",
    "        - ML algorithms learn from experience and improve their performance over time.\n",
    "        - ML is often used to build predictive models that can make accurate predictions or decisions based on input data.\n",
    "        #\n",
    "    - Deep Learning (DL)\n",
    "        - DL is a subset of ML that focuses on creating artificial neural networks that can learn and improve their performance on a specific task.\n",
    "        - DL algorithms are designed to learn from large amounts of data and can be used for tasks such as image or speech recognition.\n",
    "        - DL is a more advanced form of ML that requires large amounts of labeled data and computational resources to train.\n",
    "        #\n",
    "    - Data Science (DS)\n",
    "        - DS is a broad field that focuses on extracting insights and knowledge from data using a variety of techniques, including statistical analysis, machine learning, and data visualization.\n",
    "        - DS involves the entire process of working with data, from collecting and cleaning it to analyzing and visualizing it. DS often involves using a variety of tools and technologies, including programming languages such as Python and R, statistical software, and databases."
   ]
  },
  {
   "cell_type": "markdown",
   "metadata": {},
   "source": [
    "#### Q5. What are the main differences between supervised, unsupervised, and semi-supervised learning?"
   ]
  },
  {
   "cell_type": "markdown",
   "metadata": {},
   "source": [
    "- The main differences between supervised, unsupervised, and semi-supervised learning are:\n",
    "#\n",
    "- Supervised Learning\n",
    "    - In supervised learning, the dataset used to train the machine learning model is labeled, meaning that it has input features and corresponding output labels.\n",
    "    - The goal of supervised learning is to learn a mapping between input features and output labels to make accurate predictions on new, unseen data.\n",
    "    - Examples of supervised learning are classification and regression.\n",
    "    #\n",
    "- Unsupervised Learning \n",
    "    - In unsupervised learning, the dataset used to train the machine learning model is unlabeled, meaning that it has input features but no corresponding output labels.\n",
    "    - The goal of unsupervised learning is to discover the underlying structure of the data, such as patterns, clusters, or relationships, without any prior knowledge of the output.\n",
    "    - Examples of unsupervised learning are clustering, anomaly detection, and dimensionality reduction, etc\n",
    "    #\n",
    "- Semi-Supervised Learning\n",
    "    - Semi-supervised learning is a combination of supervised and unsupervised learning.\n",
    "    - In semi-supervised learning, the dataset used to train the machine learning model is partially labeled, meaning that it has some input features with corresponding output labels and some input features without labels.\n",
    "    - The goal of semi-supervised learning is to leverage the labeled data to improve the accuracy of the model on the unlabeled data.\n",
    "    - Semi-supervised learning can be useful when labeling data is expensive or time-consuming."
   ]
  },
  {
   "cell_type": "markdown",
   "metadata": {},
   "source": [
    "#### Q6. What is train, test and validation split? Explain the importance of each term."
   ]
  },
  {
   "cell_type": "markdown",
   "metadata": {},
   "source": [
    "#### Q7. How can unsupervised learning be used in anomaly detection?"
   ]
  },
  {
   "cell_type": "markdown",
   "metadata": {},
   "source": [
    "#### Q8. List down some commonly used supervised learning algorithms and unsupervised learning algorithms."
   ]
  },
  {
   "cell_type": "markdown",
   "metadata": {},
   "source": []
  }
 ],
 "metadata": {
  "kernelspec": {
   "display_name": "Python 3 (ipykernel)",
   "language": "python",
   "name": "python3"
  },
  "language_info": {
   "codemirror_mode": {
    "name": "ipython",
    "version": 3
   },
   "file_extension": ".py",
   "mimetype": "text/x-python",
   "name": "python",
   "nbconvert_exporter": "python",
   "pygments_lexer": "ipython3",
   "version": "3.10.10"
  }
 },
 "nbformat": 4,
 "nbformat_minor": 2
}
