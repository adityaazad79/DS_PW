{
 "cells": [
  {
   "cell_type": "code",
   "execution_count": 2,
   "metadata": {},
   "outputs": [],
   "source": [
    "# Package / Libray /Modules"
   ]
  },
  {
   "cell_type": "code",
   "execution_count": 4,
   "metadata": {},
   "outputs": [],
   "source": [
    "# Module : Any python program is considered as a module(.py)"
   ]
  },
  {
   "cell_type": "code",
   "execution_count": 9,
   "metadata": {},
   "outputs": [],
   "source": [
    "# Library : Collectiopn of multiple module\n",
    "# It contains a lot of functions and variables which will be called\n",
    "# Functin --> Methods\n",
    "# variables --> Attributes  -> Attributes are the variables that are called by library"
   ]
  },
  {
   "cell_type": "code",
   "execution_count": 13,
   "metadata": {},
   "outputs": [],
   "source": [
    "# Package : It is a directory which contains a collection of library"
   ]
  },
  {
   "cell_type": "code",
   "execution_count": null,
   "metadata": {},
   "outputs": [],
   "source": [
    "# Library are of two types:\n",
    "# 1. Inbuilt Library (Python Standard Library)\n",
    "# https://docs.python.org/3/library/\n",
    "# 2. Used defined library (use package manager to install)\n",
    "# Useing pip install <package_name>\n",
    "\n",
    "# Libraries for ML and Data Science\n",
    "# numpy, matplotlib, seaborn, pandas, scikit-learn, tensorflow\n",
    "\n",
    "#  Libraries for statistics\n",
    "# 1. statistics\n",
    "# 2. scipy (scipy.stats)(\"from scipy import stats\")\n",
    "# 3. numpy"
   ]
  }
 ],
 "metadata": {
  "kernelspec": {
   "display_name": "Python 3",
   "language": "python",
   "name": "python3"
  },
  "language_info": {
   "codemirror_mode": {
    "name": "ipython",
    "version": 3
   },
   "file_extension": ".py",
   "mimetype": "text/x-python",
   "name": "python",
   "nbconvert_exporter": "python",
   "pygments_lexer": "ipython3",
   "version": "3.10.9 (main, Dec 19 2022, 17:35:49) [GCC 12.2.0]"
  },
  "orig_nbformat": 4,
  "vscode": {
   "interpreter": {
    "hash": "916dbcbb3f70747c44a77c7bcd40155683ae19c65e1c03b4aa3499c5328201f1"
   }
  }
 },
 "nbformat": 4,
 "nbformat_minor": 2
}
